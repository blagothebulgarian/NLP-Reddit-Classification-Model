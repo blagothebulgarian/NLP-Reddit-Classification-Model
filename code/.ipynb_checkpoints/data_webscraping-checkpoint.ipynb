{
 "cells": [
  {
   "cell_type": "code",
   "execution_count": 11,
   "id": "49521561-6683-47e4-be8e-572f73c2998c",
   "metadata": {},
   "outputs": [],
   "source": [
    "import pandas as pd\n",
    "import numpy as np\n",
    "import requests\n",
    "import time\n",
    "from bs4 import BeautifulSoup"
   ]
  },
  {
   "cell_type": "code",
   "execution_count": 12,
   "id": "e2f939d6-9da3-4586-84f6-d3af24ebf83a",
   "metadata": {},
   "outputs": [],
   "source": [
    "url = 'https://api.pushshift.io/reddit/search/submission'"
   ]
  },
  {
   "cell_type": "markdown",
   "id": "b9dce689-32e9-4ad3-b95a-92e54a0b758e",
   "metadata": {},
   "source": [
    "### Test Run First"
   ]
  },
  {
   "cell_type": "code",
   "execution_count": 13,
   "id": "ade35265-fc40-4f83-9f00-489de1de7db5",
   "metadata": {},
   "outputs": [],
   "source": [
    "now = int(time.time())\n",
    "params = {\n",
    "    'subreddit': 'AskEngineers',\n",
    "    'size': 10,\n",
    "    'before': now,\n",
    "    'score' : '>20',\n",
    "    'num_comments' : '>20'\n",
    " \n",
    "}"
   ]
  },
  {
   "cell_type": "code",
   "execution_count": 14,
   "id": "e949b835-e252-49a7-8621-fc6699f7b526",
   "metadata": {},
   "outputs": [],
   "source": [
    "res = requests.get(url, params=params)"
   ]
  },
  {
   "cell_type": "code",
   "execution_count": 15,
   "id": "f8332cd0-e617-407e-904f-d619d1ab1cc4",
   "metadata": {},
   "outputs": [
    {
     "data": {
      "text/plain": [
       "200"
      ]
     },
     "execution_count": 15,
     "metadata": {},
     "output_type": "execute_result"
    }
   ],
   "source": [
    "res.status_code"
   ]
  },
  {
   "cell_type": "code",
   "execution_count": 7,
   "id": "70130918-1df9-4c03-a135-6659134084f9",
   "metadata": {},
   "outputs": [],
   "source": [
    "data = res.json()"
   ]
  },
  {
   "cell_type": "code",
   "execution_count": 8,
   "id": "ab5e8dc9-a827-40f0-b0f6-fd37733c4a93",
   "metadata": {},
   "outputs": [
    {
     "data": {
      "text/html": [
       "<div>\n",
       "<style scoped>\n",
       "    .dataframe tbody tr th:only-of-type {\n",
       "        vertical-align: middle;\n",
       "    }\n",
       "\n",
       "    .dataframe tbody tr th {\n",
       "        vertical-align: top;\n",
       "    }\n",
       "\n",
       "    .dataframe thead th {\n",
       "        text-align: right;\n",
       "    }\n",
       "</style>\n",
       "<table border=\"1\" class=\"dataframe\">\n",
       "  <thead>\n",
       "    <tr style=\"text-align: right;\">\n",
       "      <th></th>\n",
       "      <th>title</th>\n",
       "      <th>selftext</th>\n",
       "      <th>subreddit</th>\n",
       "      <th>score</th>\n",
       "      <th>num_comments</th>\n",
       "      <th>created_utc</th>\n",
       "    </tr>\n",
       "  </thead>\n",
       "  <tbody>\n",
       "    <tr>\n",
       "      <th>0</th>\n",
       "      <td>Careers with a BS in Mechanical Engineering</td>\n",
       "      <td>Hi all.\\n\\nSo yes, I graduated this year with ...</td>\n",
       "      <td>AskEngineers</td>\n",
       "      <td>60</td>\n",
       "      <td>210</td>\n",
       "      <td>1638995117</td>\n",
       "    </tr>\n",
       "    <tr>\n",
       "      <th>1</th>\n",
       "      <td>Question about the lifestyle of a Field Engine...</td>\n",
       "      <td>Right now I am considering a job as a Field En...</td>\n",
       "      <td>AskEngineers</td>\n",
       "      <td>26</td>\n",
       "      <td>47</td>\n",
       "      <td>1638976319</td>\n",
       "    </tr>\n",
       "    <tr>\n",
       "      <th>2</th>\n",
       "      <td>Dealing with negative colleagues</td>\n",
       "      <td>One of my fellow engineers is a black hat thin...</td>\n",
       "      <td>AskEngineers</td>\n",
       "      <td>137</td>\n",
       "      <td>99</td>\n",
       "      <td>1638967311</td>\n",
       "    </tr>\n",
       "  </tbody>\n",
       "</table>\n",
       "</div>"
      ],
      "text/plain": [
       "                                               title  \\\n",
       "0        Careers with a BS in Mechanical Engineering   \n",
       "1  Question about the lifestyle of a Field Engine...   \n",
       "2                   Dealing with negative colleagues   \n",
       "\n",
       "                                            selftext     subreddit  score  \\\n",
       "0  Hi all.\\n\\nSo yes, I graduated this year with ...  AskEngineers     60   \n",
       "1  Right now I am considering a job as a Field En...  AskEngineers     26   \n",
       "2  One of my fellow engineers is a black hat thin...  AskEngineers    137   \n",
       "\n",
       "   num_comments  created_utc  \n",
       "0           210   1638995117  \n",
       "1            47   1638976319  \n",
       "2            99   1638967311  "
      ]
     },
     "execution_count": 8,
     "metadata": {},
     "output_type": "execute_result"
    }
   ],
   "source": [
    "posts = pd.DataFrame(data['data'])[['title', 'selftext', 'subreddit','score', 'num_comments', 'created_utc']]\n",
    "posts.head(3)"
   ]
  },
  {
   "cell_type": "markdown",
   "id": "124295ba-f15a-46bb-a97a-92234961c2b6",
   "metadata": {},
   "source": [
    "### Full Data Pull"
   ]
  },
  {
   "cell_type": "code",
   "execution_count": 136,
   "id": "a931122e-da72-41b4-8153-23a97ce79e1c",
   "metadata": {},
   "outputs": [],
   "source": [
    "\n",
    "df = []\n",
    "\n",
    "subreddits = ['AskEngineers', 'MachineLearning']\n",
    "\n",
    "for sub in subreddits:\n",
    "    \n",
    "    before = int(time.time())\n",
    "    \n",
    "    for pull in range(13): #Lucky 13, more data is never bad!\n",
    "        #set params for posts of higher general quality\n",
    "        params = {\n",
    "            'subreddit': sub,\n",
    "            #'q': 'election',\n",
    "            'size': 100,\n",
    "            'before': before,\n",
    "            'score' : '>15',\n",
    "            'num_comments' : '>15'\n",
    "        }\n",
    "        \n",
    "        # use the requests to get the response\n",
    "        res = requests.get(url, params=params)\n",
    "        # turn the response into JSON\n",
    "        data = res.json()\n",
    "        # turn the JSON into a DataFrame\n",
    "        posts = pd.DataFrame(data['data'])[['subreddit','title', 'selftext','score', 'num_comments' , 'created_utc']]\n",
    "        # add posts DataFrame to dfs\n",
    "        df.append(posts)\n",
    "        # set before to be the timestamp of the last post\n",
    "        before = posts['created_utc'].values[-1]\n",
    "        \n",
    "        time.sleep(5)\n",
    "# concat all dfs\n",
    "df = pd.concat(df, ignore_index=True)"
   ]
  },
  {
   "cell_type": "code",
   "execution_count": 137,
   "id": "8df76723-785a-4be3-9949-489db24e43db",
   "metadata": {},
   "outputs": [
    {
     "data": {
      "text/plain": [
       "(2594, 6)"
      ]
     },
     "execution_count": 137,
     "metadata": {},
     "output_type": "execute_result"
    }
   ],
   "source": [
    "df.shape"
   ]
  },
  {
   "cell_type": "code",
   "execution_count": 138,
   "id": "dff87972-5563-4747-9a62-a0d34cedaa8f",
   "metadata": {},
   "outputs": [
    {
     "data": {
      "text/plain": [
       "AskEngineers       1297\n",
       "MachineLearning    1297\n",
       "Name: subreddit, dtype: int64"
      ]
     },
     "execution_count": 138,
     "metadata": {},
     "output_type": "execute_result"
    }
   ],
   "source": [
    "#Potentially ran out of qualified posts but I have more than enough\n",
    "df.subreddit.value_counts()"
   ]
  },
  {
   "cell_type": "markdown",
   "id": "39293af3-f9ac-48e3-9db2-7b615c3fac7a",
   "metadata": {},
   "source": [
    "### Data Cleaning & Feature Engineering"
   ]
  },
  {
   "cell_type": "code",
   "execution_count": 10,
   "id": "f9bc71e9-1d0d-4647-8007-ba64c940f94c",
   "metadata": {},
   "outputs": [
    {
     "data": {
      "text/plain": [
       "subreddit         0\n",
       "title             0\n",
       "selftext        585\n",
       "score             0\n",
       "num_comments      0\n",
       "created_utc       0\n",
       "dtype: int64"
      ]
     },
     "execution_count": 10,
     "metadata": {},
     "output_type": "execute_result"
    }
   ],
   "source": [
    "df.isnull().sum()"
   ]
  },
  {
   "cell_type": "code",
   "execution_count": 16,
   "id": "269dd5cb-7608-4da2-9f1a-d92c3a4f5a9e",
   "metadata": {},
   "outputs": [],
   "source": [
    "#Binarize target variable of subreddit\n",
    "df['subreddit'].replace({'AskEngineers': 0, 'MachineLearning': 1}, inplace=True)"
   ]
  },
  {
   "cell_type": "code",
   "execution_count": 17,
   "id": "629c7425-9bb1-4289-842c-f11e87d42a37",
   "metadata": {},
   "outputs": [],
   "source": [
    "#I will creat a total text column merging self text with title for any that had it\n",
    "\n",
    "df['selftext'].fillna('', inplace = True)\n",
    "df['total_text'] = df['title'] + ' ' + df['selftext']"
   ]
  },
  {
   "cell_type": "code",
   "execution_count": 18,
   "id": "aeedbf30-33ae-4a89-8861-bd427a3bf486",
   "metadata": {},
   "outputs": [],
   "source": [
    "def remove_html(post):\n",
    "    '''function to remove html and lowercase all text'''\n",
    "    \n",
    "    no_html = BeautifulSoup(post).text\n",
    "    # removes html\n",
    "    \n",
    "    lower_case = no_html.lower()\n",
    "    # lowercase all text\n",
    "    \n",
    "    return lower_case\n",
    "\n",
    "# Apply fuction to data\n",
    "df['total_text'] = df['total_text'].apply(remove_html)"
   ]
  },
  {
   "cell_type": "code",
   "execution_count": 19,
   "id": "a0939b3d-69b1-4a44-80b8-636be0ac291d",
   "metadata": {},
   "outputs": [],
   "source": [
    "def length(status):\n",
    "    return len(status)\n",
    "\n",
    "df['title_length'] = df['title'].map(length)\n",
    "df['selftext_length'] = df['selftext'].map(length)"
   ]
  },
  {
   "cell_type": "code",
   "execution_count": 20,
   "id": "8a35e524-ec99-4926-af5d-8a829860dc08",
   "metadata": {},
   "outputs": [
    {
     "data": {
      "text/html": [
       "<div>\n",
       "<style scoped>\n",
       "    .dataframe tbody tr th:only-of-type {\n",
       "        vertical-align: middle;\n",
       "    }\n",
       "\n",
       "    .dataframe tbody tr th {\n",
       "        vertical-align: top;\n",
       "    }\n",
       "\n",
       "    .dataframe thead th {\n",
       "        text-align: right;\n",
       "    }\n",
       "</style>\n",
       "<table border=\"1\" class=\"dataframe\">\n",
       "  <thead>\n",
       "    <tr style=\"text-align: right;\">\n",
       "      <th></th>\n",
       "      <th>subreddit</th>\n",
       "      <th>title</th>\n",
       "      <th>selftext</th>\n",
       "      <th>score</th>\n",
       "      <th>num_comments</th>\n",
       "      <th>created_utc</th>\n",
       "      <th>total_text</th>\n",
       "      <th>title_length</th>\n",
       "      <th>selftext_length</th>\n",
       "      <th>title_word_count</th>\n",
       "      <th>selftext_word_count</th>\n",
       "    </tr>\n",
       "  </thead>\n",
       "  <tbody>\n",
       "    <tr>\n",
       "      <th>2591</th>\n",
       "      <td>1</td>\n",
       "      <td>[D] Google's large scale GAN-Tuning paper unfa...</td>\n",
       "      <td></td>\n",
       "      <td>69</td>\n",
       "      <td>19</td>\n",
       "      <td>1512149277</td>\n",
       "      <td>[d] google's large scale gan-tuning paper unfa...</td>\n",
       "      <td>65</td>\n",
       "      <td>0</td>\n",
       "      <td>9</td>\n",
       "      <td>0</td>\n",
       "    </tr>\n",
       "    <tr>\n",
       "      <th>2592</th>\n",
       "      <td>1</td>\n",
       "      <td>[D] Looking for papers on treating regression ...</td>\n",
       "      <td>I'm currently working on a paper regarding a r...</td>\n",
       "      <td>18</td>\n",
       "      <td>27</td>\n",
       "      <td>1512131072</td>\n",
       "      <td>[d] looking for papers on treating regression ...</td>\n",
       "      <td>83</td>\n",
       "      <td>1141</td>\n",
       "      <td>12</td>\n",
       "      <td>177</td>\n",
       "    </tr>\n",
       "    <tr>\n",
       "      <th>2593</th>\n",
       "      <td>1</td>\n",
       "      <td>[R] High-Resolution Image Synthesis and Semant...</td>\n",
       "      <td></td>\n",
       "      <td>156</td>\n",
       "      <td>23</td>\n",
       "      <td>1512106470</td>\n",
       "      <td>[r] high-resolution image synthesis and semant...</td>\n",
       "      <td>83</td>\n",
       "      <td>0</td>\n",
       "      <td>10</td>\n",
       "      <td>0</td>\n",
       "    </tr>\n",
       "  </tbody>\n",
       "</table>\n",
       "</div>"
      ],
      "text/plain": [
       "      subreddit                                              title  \\\n",
       "2591          1  [D] Google's large scale GAN-Tuning paper unfa...   \n",
       "2592          1  [D] Looking for papers on treating regression ...   \n",
       "2593          1  [R] High-Resolution Image Synthesis and Semant...   \n",
       "\n",
       "                                               selftext  score  num_comments  \\\n",
       "2591                                                        69            19   \n",
       "2592  I'm currently working on a paper regarding a r...     18            27   \n",
       "2593                                                       156            23   \n",
       "\n",
       "      created_utc                                         total_text  \\\n",
       "2591   1512149277  [d] google's large scale gan-tuning paper unfa...   \n",
       "2592   1512131072  [d] looking for papers on treating regression ...   \n",
       "2593   1512106470  [r] high-resolution image synthesis and semant...   \n",
       "\n",
       "      title_length  selftext_length  title_word_count  selftext_word_count  \n",
       "2591            65                0                 9                    0  \n",
       "2592            83             1141                12                  177  \n",
       "2593            83                0                10                    0  "
      ]
     },
     "execution_count": 20,
     "metadata": {},
     "output_type": "execute_result"
    }
   ],
   "source": [
    "def words(status):\n",
    "    if status != '':\n",
    "        return len(status.split(' '))\n",
    "    else:\n",
    "        return 0\n",
    "df['title_word_count'] = df['title'].map(words)\n",
    "df['selftext_word_count'] = df['selftext'].map(words)\n",
    "df.tail(3)"
   ]
  },
  {
   "cell_type": "code",
   "execution_count": 21,
   "id": "1b557977-cee2-4f40-bfe7-85527d14a8cf",
   "metadata": {},
   "outputs": [
    {
     "data": {
      "text/html": [
       "<div>\n",
       "<style scoped>\n",
       "    .dataframe tbody tr th:only-of-type {\n",
       "        vertical-align: middle;\n",
       "    }\n",
       "\n",
       "    .dataframe tbody tr th {\n",
       "        vertical-align: top;\n",
       "    }\n",
       "\n",
       "    .dataframe thead th {\n",
       "        text-align: right;\n",
       "    }\n",
       "</style>\n",
       "<table border=\"1\" class=\"dataframe\">\n",
       "  <thead>\n",
       "    <tr style=\"text-align: right;\">\n",
       "      <th></th>\n",
       "      <th>subreddit</th>\n",
       "      <th>title</th>\n",
       "      <th>selftext</th>\n",
       "      <th>score</th>\n",
       "      <th>num_comments</th>\n",
       "      <th>created_utc</th>\n",
       "      <th>total_text</th>\n",
       "      <th>title_length</th>\n",
       "      <th>selftext_length</th>\n",
       "      <th>title_word_count</th>\n",
       "      <th>selftext_word_count</th>\n",
       "    </tr>\n",
       "  </thead>\n",
       "  <tbody>\n",
       "    <tr>\n",
       "      <th>2591</th>\n",
       "      <td>1</td>\n",
       "      <td>[D] Google's large scale GAN-Tuning paper unfa...</td>\n",
       "      <td>0</td>\n",
       "      <td>69</td>\n",
       "      <td>19</td>\n",
       "      <td>1512149277</td>\n",
       "      <td>[d] google's large scale gan-tuning paper unfa...</td>\n",
       "      <td>65</td>\n",
       "      <td>0</td>\n",
       "      <td>9</td>\n",
       "      <td>0</td>\n",
       "    </tr>\n",
       "    <tr>\n",
       "      <th>2592</th>\n",
       "      <td>1</td>\n",
       "      <td>[D] Looking for papers on treating regression ...</td>\n",
       "      <td>1</td>\n",
       "      <td>18</td>\n",
       "      <td>27</td>\n",
       "      <td>1512131072</td>\n",
       "      <td>[d] looking for papers on treating regression ...</td>\n",
       "      <td>83</td>\n",
       "      <td>1141</td>\n",
       "      <td>12</td>\n",
       "      <td>177</td>\n",
       "    </tr>\n",
       "    <tr>\n",
       "      <th>2593</th>\n",
       "      <td>1</td>\n",
       "      <td>[R] High-Resolution Image Synthesis and Semant...</td>\n",
       "      <td>0</td>\n",
       "      <td>156</td>\n",
       "      <td>23</td>\n",
       "      <td>1512106470</td>\n",
       "      <td>[r] high-resolution image synthesis and semant...</td>\n",
       "      <td>83</td>\n",
       "      <td>0</td>\n",
       "      <td>10</td>\n",
       "      <td>0</td>\n",
       "    </tr>\n",
       "  </tbody>\n",
       "</table>\n",
       "</div>"
      ],
      "text/plain": [
       "      subreddit                                              title  selftext  \\\n",
       "2591          1  [D] Google's large scale GAN-Tuning paper unfa...         0   \n",
       "2592          1  [D] Looking for papers on treating regression ...         1   \n",
       "2593          1  [R] High-Resolution Image Synthesis and Semant...         0   \n",
       "\n",
       "      score  num_comments  created_utc  \\\n",
       "2591     69            19   1512149277   \n",
       "2592     18            27   1512131072   \n",
       "2593    156            23   1512106470   \n",
       "\n",
       "                                             total_text  title_length  \\\n",
       "2591  [d] google's large scale gan-tuning paper unfa...            65   \n",
       "2592  [d] looking for papers on treating regression ...            83   \n",
       "2593  [r] high-resolution image synthesis and semant...            83   \n",
       "\n",
       "      selftext_length  title_word_count  selftext_word_count  \n",
       "2591                0                 9                    0  \n",
       "2592             1141                12                  177  \n",
       "2593                0                10                    0  "
      ]
     },
     "execution_count": 21,
     "metadata": {},
     "output_type": "execute_result"
    }
   ],
   "source": [
    "#Binarize whether there was self text in first place\n",
    "\n",
    "def fix_selftext(val):\n",
    "    if val == '':\n",
    "        return 0\n",
    "    else:\n",
    "        return 1\n",
    "df['selftext'] = df['selftext'].map(fix_selftext)\n",
    "df.tail(3)"
   ]
  },
  {
   "cell_type": "code",
   "execution_count": 22,
   "id": "19ae381c-d0a4-4305-a326-5eb327726a62",
   "metadata": {},
   "outputs": [],
   "source": [
    "df.to_csv('../data/subreddit_data.csv', index = False)"
   ]
  },
  {
   "cell_type": "code",
   "execution_count": null,
   "id": "57403d47-c487-41df-890a-58cd7f2ce709",
   "metadata": {},
   "outputs": [],
   "source": []
  }
 ],
 "metadata": {
  "kernelspec": {
   "display_name": "Python 3",
   "language": "python",
   "name": "python3"
  },
  "language_info": {
   "codemirror_mode": {
    "name": "ipython",
    "version": 3
   },
   "file_extension": ".py",
   "mimetype": "text/x-python",
   "name": "python",
   "nbconvert_exporter": "python",
   "pygments_lexer": "ipython3",
   "version": "3.8.11"
  }
 },
 "nbformat": 4,
 "nbformat_minor": 5
}
