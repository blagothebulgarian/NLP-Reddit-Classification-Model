{
 "cells": [
  {
   "cell_type": "code",
   "execution_count": 3,
   "id": "d61eb3be-17c7-4b22-b08a-81fd96f6d037",
   "metadata": {},
   "outputs": [],
   "source": [
    "import pandas as pd\n",
    "import numpy as np\n",
    "import seaborn as sns\n",
    "import matplotlib.pyplot as plt\n",
    "%matplotlib inline \n",
    "\n",
    "from sklearn.linear_model import LogisticRegression\n",
    "from sklearn.feature_extraction.text import CountVectorizer\n",
    "from sklearn.pipeline import Pipeline\n",
    "from sklearn.model_selection import train_test_split, GridSearchCV\n",
    "from sklearn.metrics import plot_confusion_matrix, plot_roc_curve, confusion_matrix\n",
    "from sklearn.ensemble import RandomForestClassifier\n",
    "from sklearn.neighbors import KNeighborsClassifier\n",
    "from sklearn.ensemble import GradientBoostingClassifier, AdaBoostClassifier, VotingClassifier\n",
    "\n",
    "from nltk.stem import WordNetLemmatizer, PorterStemmer\n",
    "from nltk.corpus import stopwords\n",
    "from nltk.tokenize import sent_tokenize, word_tokenize, RegexpTokenizer\n",
    "\n",
    "import nltk"
   ]
  },
  {
   "cell_type": "code",
   "execution_count": 4,
   "id": "34a597c6-7bf9-4e13-b17c-b9cc65a84f62",
   "metadata": {},
   "outputs": [
    {
     "data": {
      "text/html": [
       "<div>\n",
       "<style scoped>\n",
       "    .dataframe tbody tr th:only-of-type {\n",
       "        vertical-align: middle;\n",
       "    }\n",
       "\n",
       "    .dataframe tbody tr th {\n",
       "        vertical-align: top;\n",
       "    }\n",
       "\n",
       "    .dataframe thead th {\n",
       "        text-align: right;\n",
       "    }\n",
       "</style>\n",
       "<table border=\"1\" class=\"dataframe\">\n",
       "  <thead>\n",
       "    <tr style=\"text-align: right;\">\n",
       "      <th></th>\n",
       "      <th>subreddit</th>\n",
       "      <th>title</th>\n",
       "      <th>selftext</th>\n",
       "      <th>score</th>\n",
       "      <th>num_comments</th>\n",
       "      <th>created_utc</th>\n",
       "      <th>total_text</th>\n",
       "      <th>title_length</th>\n",
       "      <th>selftext_length</th>\n",
       "      <th>title_word_count</th>\n",
       "      <th>selftext_word_count</th>\n",
       "    </tr>\n",
       "  </thead>\n",
       "  <tbody>\n",
       "    <tr>\n",
       "      <th>0</th>\n",
       "      <td>0</td>\n",
       "      <td>Careers with a BS in Mechanical Engineering</td>\n",
       "      <td>1</td>\n",
       "      <td>60</td>\n",
       "      <td>210</td>\n",
       "      <td>1638995117</td>\n",
       "      <td>careers with a bs in mechanical engineering hi...</td>\n",
       "      <td>43</td>\n",
       "      <td>726</td>\n",
       "      <td>7</td>\n",
       "      <td>132</td>\n",
       "    </tr>\n",
       "    <tr>\n",
       "      <th>1</th>\n",
       "      <td>0</td>\n",
       "      <td>Am I really an engineer?</td>\n",
       "      <td>1</td>\n",
       "      <td>19</td>\n",
       "      <td>59</td>\n",
       "      <td>1638988318</td>\n",
       "      <td>am i really an engineer? let me first explain ...</td>\n",
       "      <td>24</td>\n",
       "      <td>2129</td>\n",
       "      <td>5</td>\n",
       "      <td>362</td>\n",
       "    </tr>\n",
       "    <tr>\n",
       "      <th>2</th>\n",
       "      <td>0</td>\n",
       "      <td>How do lighthouses withstand being constantly ...</td>\n",
       "      <td>1</td>\n",
       "      <td>17</td>\n",
       "      <td>20</td>\n",
       "      <td>1638986902</td>\n",
       "      <td>how do lighthouses withstand being constantly ...</td>\n",
       "      <td>85</td>\n",
       "      <td>411</td>\n",
       "      <td>13</td>\n",
       "      <td>46</td>\n",
       "    </tr>\n",
       "  </tbody>\n",
       "</table>\n",
       "</div>"
      ],
      "text/plain": [
       "   subreddit                                              title  selftext  \\\n",
       "0          0        Careers with a BS in Mechanical Engineering         1   \n",
       "1          0                           Am I really an engineer?         1   \n",
       "2          0  How do lighthouses withstand being constantly ...         1   \n",
       "\n",
       "   score  num_comments  created_utc  \\\n",
       "0     60           210   1638995117   \n",
       "1     19            59   1638988318   \n",
       "2     17            20   1638986902   \n",
       "\n",
       "                                          total_text  title_length  \\\n",
       "0  careers with a bs in mechanical engineering hi...            43   \n",
       "1  am i really an engineer? let me first explain ...            24   \n",
       "2  how do lighthouses withstand being constantly ...            85   \n",
       "\n",
       "   selftext_length  title_word_count  selftext_word_count  \n",
       "0              726                 7                  132  \n",
       "1             2129                 5                  362  \n",
       "2              411                13                   46  "
      ]
     },
     "execution_count": 4,
     "metadata": {},
     "output_type": "execute_result"
    }
   ],
   "source": [
    "df = pd.read_csv('../data/subreddit_data.csv')\n",
    "df.head(3)"
   ]
  },
  {
   "cell_type": "code",
   "execution_count": 5,
   "id": "87189b45-8c2a-4140-829c-fa6ffab0d0d3",
   "metadata": {},
   "outputs": [
    {
     "data": {
      "text/plain": [
       "0    0.5\n",
       "1    0.5\n",
       "Name: subreddit, dtype: float64"
      ]
     },
     "execution_count": 5,
     "metadata": {},
     "output_type": "execute_result"
    }
   ],
   "source": [
    "#Baseline which will obviously be 50% on the dot\n",
    "df['subreddit'].value_counts(normalize = True)"
   ]
  },
  {
   "cell_type": "code",
   "execution_count": 6,
   "id": "656f7ec5-b772-4e45-811b-13d771e6edc5",
   "metadata": {},
   "outputs": [],
   "source": [
    "features = ['total_text']#, 'selftext'] #,'title_length','selftext_length', 'title_word_count', 'selftext_word_count' ]\n",
    "X = df['total_text']\n",
    "y = df['subreddit']"
   ]
  },
  {
   "cell_type": "code",
   "execution_count": 7,
   "id": "6e20d4b8-7e9d-41f3-8e71-7fc10dcddd70",
   "metadata": {},
   "outputs": [],
   "source": [
    "X_train, X_test, y_train, y_test = train_test_split(X, y, random_state=13, stratify=y)"
   ]
  },
  {
   "cell_type": "code",
   "execution_count": 8,
   "id": "5eda997d-03fc-4748-8717-72aab8b40a53",
   "metadata": {},
   "outputs": [],
   "source": [
    "def lemmatize_text(text):\n",
    "    lemmatizer = WordNetLemmatizer()\n",
    "    split_text = text.split(' ')\n",
    "    return [lemmatizer.lemmatize(word) for word in split_text]"
   ]
  },
  {
   "cell_type": "code",
   "execution_count": 9,
   "id": "777683e6-4bcf-4895-8c97-4f1f71d07589",
   "metadata": {},
   "outputs": [],
   "source": [
    "def stem_text(text):\n",
    "    p_stemmer = PorterStemmer()\n",
    "    split_text = text.split(' ')\n",
    "    return [p_stemmer.stem(word) for word in split_text]"
   ]
  },
  {
   "cell_type": "markdown",
   "id": "641fcb96-daf5-43b3-9d7e-a1f01a482e0c",
   "metadata": {},
   "source": [
    "### Logistic Regression Pipeline"
   ]
  },
  {
   "cell_type": "code",
   "execution_count": 9,
   "id": "10ec686f-8eb6-4408-a704-08139a0e6b19",
   "metadata": {},
   "outputs": [],
   "source": [
    "pipe_lr = Pipeline([\n",
    "    ('vect', CountVectorizer()),\n",
    "    ('lr', LogisticRegression(random_state=13))\n",
    "])"
   ]
  },
  {
   "cell_type": "code",
   "execution_count": 10,
   "id": "8ff2f8fc-7796-488e-b23c-60f5bdc3928d",
   "metadata": {},
   "outputs": [
    {
     "name": "stdout",
     "output_type": "stream",
     "text": [
      "0.9820051413881747\n"
     ]
    },
    {
     "data": {
      "text/plain": [
       "{'lr__max_iter': 500,\n",
       " 'vect__binary': True,\n",
       " 'vect__stop_words': None,\n",
       " 'vect__tokenizer': <function __main__.lemmatize_text(text)>}"
      ]
     },
     "execution_count": 10,
     "metadata": {},
     "output_type": "execute_result"
    }
   ],
   "source": [
    "params_lr = {\n",
    "    #best\n",
    "    'lr__max_iter': [500],\n",
    "    'vect__binary': [True],\n",
    "    #'vect__max_df': [1],\n",
    "    #'vect__min_df': [0.25],\n",
    "    'vect__stop_words': [None],\n",
    "    'vect__tokenizer': [lemmatize_text]\n",
    "    \n",
    "     #tests\n",
    "     #'vect__stop_words': [None, 'english'],\n",
    "     #'vect__min_df': range(1, 10, 2),\n",
    "     #'vect__max_df': [1.0, .75, .5, .25],\n",
    "     #'vect__tokenizer': [stem_text, lemmatize_text, None],\n",
    "     #'vect__binary': [True, False],\n",
    "     #'lr__penalty': [ 'l2', 'elasticnet', None],\n",
    "     #'lr__max_iter' : [500],\n",
    "\n",
    "}\n",
    "\n",
    "gs_lr = GridSearchCV(pipe_lr,\n",
    "                  param_grid=params_lr)\n",
    "gs_lr.fit(X_train, y_train)\n",
    "print(gs_lr.best_score_) # <- cross val score FTW\n",
    "gs_lr.best_params_"
   ]
  },
  {
   "cell_type": "markdown",
   "id": "0bcdc594-28a7-41a5-8fd5-64fa3d3ef711",
   "metadata": {},
   "source": [
    "### KNN Pipeline"
   ]
  },
  {
   "cell_type": "code",
   "execution_count": 11,
   "id": "7d0fcf7b-bca2-49e4-924f-6d5bf804828a",
   "metadata": {},
   "outputs": [],
   "source": [
    "pipe_knn = Pipeline([\n",
    "    ('vect', CountVectorizer()),\n",
    "    ('knn', KNeighborsClassifier())\n",
    "])"
   ]
  },
  {
   "cell_type": "code",
   "execution_count": 12,
   "id": "63e70f6c-d957-48c5-aff0-017079bd0f14",
   "metadata": {},
   "outputs": [
    {
     "name": "stdout",
     "output_type": "stream",
     "text": [
      "0.7969151670951157\n"
     ]
    },
    {
     "data": {
      "text/plain": [
       "{'knn__n_neighbors': 5,\n",
       " 'knn__weights': 'uniform',\n",
       " 'vect__binary': False,\n",
       " 'vect__max_df': 0.5,\n",
       " 'vect__min_df': 5,\n",
       " 'vect__stop_words': None}"
      ]
     },
     "execution_count": 12,
     "metadata": {},
     "output_type": "execute_result"
    }
   ],
   "source": [
    "params_knn = {\n",
    "     'vect__stop_words': [None, 'english'],\n",
    "     'vect__min_df': range(1, 10, 2),\n",
    "     'vect__max_df': [1.0, .75, .5, .25],\n",
    "     #'vect__tokenizer': [stem_text, lemmatize_text, None]\n",
    "     'vect__binary': [True, False],\n",
    "     'knn__n_neighbors': [5,7,10],\n",
    "     'knn__weights' : ['uniform','distance'],\n",
    "    \n",
    "}\n",
    "\n",
    "gs_knn = GridSearchCV(pipe_knn,\n",
    "                  param_grid=params_knn)\n",
    "gs_knn.fit(X_train, y_train)\n",
    "print(gs_knn.best_score_) # <- cross val score FTW\n",
    "gs_knn.best_params_"
   ]
  },
  {
   "cell_type": "markdown",
   "id": "fac57f98-6606-4365-83bc-e3a88ed72f46",
   "metadata": {},
   "source": [
    "### RandomForest Pipeline"
   ]
  },
  {
   "cell_type": "code",
   "execution_count": 14,
   "id": "4c288f23-b0a9-442e-b901-acc45ed26630",
   "metadata": {},
   "outputs": [],
   "source": [
    "pipe_rf = Pipeline([\n",
    "    ('vect', CountVectorizer()),\n",
    "    ('rf', RandomForestClassifier(random_state=13))\n",
    "])"
   ]
  },
  {
   "cell_type": "code",
   "execution_count": 15,
   "id": "0525480b-6335-4cc3-8113-45fd331f5e01",
   "metadata": {},
   "outputs": [
    {
     "name": "stdout",
     "output_type": "stream",
     "text": [
      "0.9403598971722366\n"
     ]
    },
    {
     "data": {
      "text/plain": [
       "{'vect__binary': True,\n",
       " 'vect__max_df': 0.5,\n",
       " 'vect__min_df': 9,\n",
       " 'vect__stop_words': None}"
      ]
     },
     "execution_count": 15,
     "metadata": {},
     "output_type": "execute_result"
    }
   ],
   "source": [
    "params_rf = {\n",
    "    #best\n",
    "    'vect__binary': [True],\n",
    "    'vect__max_df': [0.5],\n",
    "    'vect__min_df': [9],\n",
    "    'vect__stop_words':[ None]\n",
    "    \n",
    "    #tests\n",
    "    #'vect__stop_words': [None, 'english'],\n",
    "    #'vect__min_df': range(1, 10, 2),\n",
    "    #'vect__max_df': [1.0, .75, .5, .25],\n",
    "    #'vect__tokenizer': [stem_text, lemmatize_text, None]\n",
    "    #'vect__binary': [True, False],\n",
    "    #'rf__n_estimators': [75, 100, 125],\n",
    "    #'rf__max_depth': [None, 3, 4, 5],\n",
    "    #'rf__max_features': ['auto', 3, 4, 5]\n",
    "}\n",
    "gs_rf = GridSearchCV(pipe_rf, param_grid=params_rf)\n",
    "gs_rf.fit(X_train, y_train)\n",
    "print(gs_rf.best_score_)\n",
    "gs_rf.best_params_"
   ]
  },
  {
   "cell_type": "markdown",
   "id": "0fcb8fba-fe69-4bd4-bcb9-a3fd425babc6",
   "metadata": {},
   "source": [
    "### AdaBoost Model"
   ]
  },
  {
   "cell_type": "code",
   "execution_count": 16,
   "id": "4f3f0860-ade3-47bf-8c9c-af5b8de46882",
   "metadata": {},
   "outputs": [],
   "source": [
    "pipe_aboost = Pipeline([\n",
    "    ('vect', CountVectorizer()),\n",
    "    ('aboost', AdaBoostClassifier(random_state=13))\n",
    "])"
   ]
  },
  {
   "cell_type": "code",
   "execution_count": 17,
   "id": "5b6531f4-6fe2-44ca-bf04-e51edbc34849",
   "metadata": {},
   "outputs": [
    {
     "name": "stdout",
     "output_type": "stream",
     "text": [
      "0.9367609254498716\n"
     ]
    },
    {
     "data": {
      "text/plain": [
       "{'vect__binary': True,\n",
       " 'vect__max_df': 0.5,\n",
       " 'vect__min_df': 1,\n",
       " 'vect__stop_words': None}"
      ]
     },
     "execution_count": 17,
     "metadata": {},
     "output_type": "execute_result"
    }
   ],
   "source": [
    "params_aboost = {\n",
    "    #best\n",
    "    'vect__binary': [True],\n",
    "    'vect__max_df': [0.5],\n",
    "    'vect__min_df': [1],\n",
    "    'vect__stop_words': [None]\n",
    "    \n",
    "    #tests\n",
    "    #'vect__stop_words': [None, 'english'],\n",
    "    #'vect__mGradientBoostingClassifierf': range(1, 10, 2),\n",
    "    #'vect__max_df': [1.0, .75, .5, .25],\n",
    "    #'vect__tokenizer': [stem_text, lemmatize_text, None]\n",
    "    #'vect__binary': [True, False]\n",
    "    #'aboost__n_estimators': [25,50, 75, 100,125]\n",
    "}\n",
    "gs_aboost = GridSearchCV(pipe_aboost, param_grid=params_aboost)\n",
    "gs_aboost.fit(X_train, y_train)\n",
    "print(gs_aboost.best_score_)\n",
    "gs_aboost.best_params_"
   ]
  },
  {
   "cell_type": "markdown",
   "id": "b1821f26-d97d-4a09-a696-0381c3ecbd69",
   "metadata": {},
   "source": [
    "### Gradient Boost Model"
   ]
  },
  {
   "cell_type": "code",
   "execution_count": 10,
   "id": "0f8a1fbe-9864-413d-a27e-054b721cbf35",
   "metadata": {},
   "outputs": [],
   "source": [
    "pipe_gboost = Pipeline([\n",
    "    ('vect', CountVectorizer()),\n",
    "    ('gboost', GradientBoostingClassifier(random_state=13))\n",
    "])"
   ]
  },
  {
   "cell_type": "code",
   "execution_count": 11,
   "id": "fc7448e3-fd28-48d6-881a-bc225cbb30b9",
   "metadata": {},
   "outputs": [
    {
     "name": "stdout",
     "output_type": "stream",
     "text": [
      "0.9820051413881747\n"
     ]
    },
    {
     "data": {
      "text/plain": [
       "{'gboost__n_estimators': 275,\n",
       " 'vect__binary': True,\n",
       " 'vect__max_df': 0.5,\n",
       " 'vect__min_df': 14,\n",
       " 'vect__stop_words': None,\n",
       " 'vect__tokenizer': <function __main__.stem_text(text)>}"
      ]
     },
     "execution_count": 11,
     "metadata": {},
     "output_type": "execute_result"
    }
   ],
   "source": [
    "params_gboost = {\n",
    "    #best\n",
    "    'vect__binary': [True],\n",
    "    'vect__max_df': [0.5],\n",
    "    'vect__min_df':[ 12, 13, 14],\n",
    "    'vect__stop_words': [None],\n",
    "    'vect__tokenizer': [stem_text, lemmatize_text, None],\n",
    "    'gboost__n_estimators': [200, 250, 275]\n",
    "    \n",
    "    #tests\n",
    "    #'vect__stop_words': [None, 'english'],\n",
    "    #'vect__min_df': range(1, 10, 2),\n",
    "    #'vect__max_df': [1.0, .75, .5, .25],\n",
    "    #'vect__tokenizer': [stem_text, lemmatize_text, None]\n",
    "    #'vect__binary': [True, False],\n",
    "    #'gboost__n_estimators': [25,50, 75, 100,125]\n",
    "}\n",
    "gs_gboost = GridSearchCV(pipe_gboost, param_grid=params_gboost)\n",
    "gs_gboost.fit(X_train, y_train)\n",
    "print(gs_gboost.best_score_)\n",
    "gs_gboost.best_params_"
   ]
  },
  {
   "cell_type": "markdown",
   "id": "abfe405b-e775-452c-9cbd-a35ef895a636",
   "metadata": {},
   "source": [
    "### Results & Metrics"
   ]
  },
  {
   "cell_type": "code",
   "execution_count": 25,
   "id": "555ab934-2225-46da-a7d5-cef04180b3b6",
   "metadata": {},
   "outputs": [
    {
     "data": {
      "image/png": "[encoded data removed]",
      "text/plain": [
       "<Figure size 432x288 with 2 Axes>"
      ]
     },
     "metadata": {
      "needs_background": "light"
     },
     "output_type": "display_data"
    }
   ],
   "source": [
    "plot_confusion_matrix(gs_gboost, X_test, y_test, display_labels=['r/AskEngineering', 'r/MachineLearning']);\n",
    "# Only 14 predicted incorrectly, looks like the model falsely predicts Machine Learning posts much more often \n",
    "plt.title('Confusion Matrix of Predictions')\n",
    "plt.savefig('../visualizations/matrix.png', dpi = 200, bbox_inches = 'tight')"
   ]
  },
  {
   "cell_type": "code",
   "execution_count": 13,
   "id": "e851a371-e93a-45cc-8abd-0d1dbac17f91",
   "metadata": {},
   "outputs": [
    {
     "data": {
      "text/plain": [
       "1841    t-net: parametrizing fully convolutional nets ...\n",
       "1658    bert's success in some benchmarks tests may be...\n",
       "2012    how to identify state-of-the-art results when ...\n",
       "1652    [project] tetris-ai - a deep reinforcement lea...\n",
       "1603    [news] megatron-lm: nvidia trains 8.3b gpt-2 u...\n",
       "1408    what is the best way to learn about reinforcem...\n",
       "2046                [r][uc berkeley] everybody dance now \n",
       "1516    [news] tensorflow 2.0 is out! the day has fina...\n",
       "1359    [r][p] talking head anime from a single image ...\n",
       "75      things you wish you had learned during univers...\n",
       "2078    [n]: tensorflow 1.10 released biggest changes ...\n",
       "1362    [d]: what is the future for designing vision m...\n",
       "1758    [news] sam altman on openai's business model h...\n",
       "1348    how to control emotions when doing research \"[...\n",
       "Name: total_text, dtype: object"
      ]
     },
     "execution_count": 13,
     "metadata": {},
     "output_type": "execute_result"
    }
   ],
   "source": [
    "pred = gs_gboost.predict(X_test)\n",
    "\n",
    "X_test[y_test != pred]\n",
    "# The few that got away"
   ]
  },
  {
   "cell_type": "code",
   "execution_count": 23,
   "id": "da8a5b9e-c0e0-45c1-8efc-61a1fc883350",
   "metadata": {},
   "outputs": [
    {
     "data": {
      "image/png": "[encoded data removed]",
      "text/plain": [
       "<Figure size 432x288 with 1 Axes>"
      ]
     },
     "metadata": {
      "needs_background": "dark"
     },
     "output_type": "display_data"
    }
   ],
   "source": [
    "plot_roc_curve(gs_gboost, X_test, y_test);\n",
    "plt.title('ROC Curve', color ='white')\n",
    "plt.xticks(color ='white')\n",
    "plt.yticks(color ='white')\n",
    "plt.xlabel('False Positive Rate', color ='white')\n",
    "plt.ylabel('True Positive Rate',color ='white')\n",
    "plt.savefig('../visualizations/roc.png', dpi = 200, bbox_inches = 'tight')"
   ]
  },
  {
   "cell_type": "code",
   "execution_count": null,
   "id": "0417094f-5d32-47f9-a950-fe3712222c60",
   "metadata": {},
   "outputs": [],
   "source": []
  }
 ],
 "metadata": {
  "kernelspec": {
   "display_name": "Python 3",
   "language": "python",
   "name": "python3"
  },
  "language_info": {
   "codemirror_mode": {
    "name": "ipython",
    "version": 3
   },
   "file_extension": ".py",
   "mimetype": "text/x-python",
   "name": "python",
   "nbconvert_exporter": "python",
   "pygments_lexer": "ipython3",
   "version": "3.8.11"
  }
 },
 "nbformat": 4,
 "nbformat_minor": 5
}
