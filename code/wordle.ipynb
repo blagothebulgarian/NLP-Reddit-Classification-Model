{
 "cells": [
  {
   "cell_type": "code",
   "execution_count": 2,
   "id": "dc5594a1-b2e5-424b-81ce-5054c6c76985",
   "metadata": {},
   "outputs": [],
   "source": [
    "import pandas as pd\n",
    "import numpy as np\n",
    "import seaborn as sns\n",
    "import matplotlib.pyplot as plt\n",
    "%matplotlib inline \n",
    "\n",
    "from sklearn.linear_model import LogisticRegression\n",
    "from sklearn.feature_extraction.text import CountVectorizer\n",
    "from sklearn.pipeline import Pipeline\n",
    "from sklearn.model_selection import train_test_split, GridSearchCV\n",
    "from sklearn.metrics import plot_confusion_matrix, plot_roc_curve, confusion_matrix\n",
    "from sklearn.ensemble import RandomForestClassifier\n",
    "from sklearn.neighbors import KNeighborsClassifier\n",
    "from sklearn.ensemble import GradientBoostingClassifier, AdaBoostClassifier, VotingClassifier\n",
    "\n",
    "from nltk.stem import WordNetLemmatizer, PorterStemmer\n",
    "from nltk.corpus import stopwords\n",
    "from nltk.tokenize import sent_tokenize, word_tokenize, RegexpTokenizer\n",
    "\n",
    "import nltk"
   ]
  },
  {
   "cell_type": "code",
   "execution_count": 9,
   "id": "9566de36-0738-426e-9aa2-064faaf7868b",
   "metadata": {},
   "outputs": [
    {
     "data": {
      "text/html": [
       "<div>\n",
       "<style scoped>\n",
       "    .dataframe tbody tr th:only-of-type {\n",
       "        vertical-align: middle;\n",
       "    }\n",
       "\n",
       "    .dataframe tbody tr th {\n",
       "        vertical-align: top;\n",
       "    }\n",
       "\n",
       "    .dataframe thead th {\n",
       "        text-align: right;\n",
       "    }\n",
       "</style>\n",
       "<table border=\"1\" class=\"dataframe\">\n",
       "  <thead>\n",
       "    <tr style=\"text-align: right;\">\n",
       "      <th></th>\n",
       "      <th>ma_words</th>\n",
       "      <th>oa_words</th>\n",
       "    </tr>\n",
       "  </thead>\n",
       "  <tbody>\n",
       "    <tr>\n",
       "      <th>0</th>\n",
       "      <td>\"cigar\",\"rebut\",\"sissy\",\"humph\",\"awake\",\"blush...</td>\n",
       "      <td>\"aahed\",\"aalii\",\"aargh\",\"aarti\",\"abaca\",\"abaci...</td>\n",
       "    </tr>\n",
       "  </tbody>\n",
       "</table>\n",
       "</div>"
      ],
      "text/plain": [
       "                                            ma_words  \\\n",
       "0  \"cigar\",\"rebut\",\"sissy\",\"humph\",\"awake\",\"blush...   \n",
       "\n",
       "                                            oa_words  \n",
       "0  \"aahed\",\"aalii\",\"aargh\",\"aarti\",\"abaca\",\"abaci...  "
      ]
     },
     "execution_count": 9,
     "metadata": {},
     "output_type": "execute_result"
    }
   ],
   "source": [
    "df = pd.read_excel('../data/wordle.xlsx')\n",
    "df.head(3)"
   ]
  },
  {
   "cell_type": "code",
   "execution_count": 23,
   "id": "af7e9c6f-1402-42a3-ae27-810d2cb8cc3d",
   "metadata": {},
   "outputs": [],
   "source": [
    "ma_list = df['ma_words'][0].replace('\"','').split()\n",
    "oa_list = df['oa_words'][0].replace('\"','').split()"
   ]
  },
  {
   "cell_type": "code",
   "execution_count": 26,
   "id": "b509f6b2-5b13-4124-89b5-9a06fb7cc8ad",
   "metadata": {},
   "outputs": [],
   "source": [
    "letters = ['a',\n",
    " 'b',\n",
    " 'c',\n",
    " 'd',\n",
    " 'e',\n",
    " 'f',\n",
    " 'g',\n",
    " 'h',\n",
    " 'i',\n",
    " 'j',\n",
    " 'k',\n",
    " 'l',\n",
    " 'm',\n",
    " 'n',\n",
    " 'o',\n",
    " 'p',\n",
    " 'q',\n",
    " 'r',\n",
    " 's',\n",
    " 't',\n",
    " 'u',\n",
    " 'v',\n",
    " 'w',\n",
    " 'x',\n",
    " 'y',\n",
    " 'z']"
   ]
  },
  {
   "cell_type": "code",
   "execution_count": 28,
   "id": "579fb201-292b-4707-a42e-5babdba66d07",
   "metadata": {},
   "outputs": [],
   "source": [
    "ma_letters = ''.join(ma_list)\n",
    "oa_letters = ''.join(oa_list)"
   ]
  },
  {
   "cell_type": "code",
   "execution_count": 25,
   "id": "5d18007a-a86d-47c7-8d71-2e46304712c4",
   "metadata": {},
   "outputs": [],
   "source": [
    "def countX(lst, x):\n",
    "    count = 0\n",
    "    for ele in lst:\n",
    "        if (ele == x):\n",
    "            count = count + 1\n",
    "    return count"
   ]
  },
  {
   "cell_type": "code",
   "execution_count": 35,
   "id": "6984d1f8-d90c-4192-8c3e-63dc6dd5bccf",
   "metadata": {},
   "outputs": [
    {
     "name": "stdout",
     "output_type": "stream",
     "text": [
      "ma_letter_counts:\n",
      "\n",
      "{'a': 975, 'b': 280, 'c': 475, 'd': 393, 'e': 1230, 'f': 229, 'g': 310, 'h': 387, 'i': 670, 'j': 27, 'k': 210, 'l': 716, 'm': 316, 'n': 573, 'o': 753, 'p': 365, 'q': 29, 'r': 897, 's': 668, 't': 729, 'u': 466, 'v': 152, 'w': 194, 'x': 37, 'y': 424, 'z': 40} \n",
      "\n",
      "oa_letter_counts:\n",
      "\n",
      "{'a': 2214, 'b': 1023, 'c': 1031, 'd': 1152, 'e': 2149, 'f': 628, 'g': 843, 'h': 604, 'i': 1065, 'j': 41, 'k': 298, 'l': 949, 'm': 457, 'n': 747, 'o': 1359, 'p': 292, 'q': 11, 'r': 1228, 's': 1844, 't': 707, 'u': 724, 'v': 144, 'w': 171, 'x': 94, 'y': 578, 'z': 127}\n"
     ]
    }
   ],
   "source": [
    "\n",
    "ma_letter_counts = {letter:countX(ma_letters, letter) for letter in letters}\n",
    "print('ma_letter_counts:\\n')\n",
    "print(ma_letter_counts,'\\n')\n",
    "oa_letter_counts = {letter:countX(oa_letters, letter) for letter in letters}\n",
    "print('oa_letter_counts:\\n')\n",
    "print(oa_letter_counts)"
   ]
  },
  {
   "cell_type": "code",
   "execution_count": null,
   "id": "752cdc8b-40e2-476a-9c28-91bdb5ab8c82",
   "metadata": {},
   "outputs": [],
   "source": []
  },
  {
   "cell_type": "code",
   "execution_count": null,
   "id": "b3583f78-6cad-49a4-aced-45fb382e3c6d",
   "metadata": {},
   "outputs": [],
   "source": []
  },
  {
   "cell_type": "code",
   "execution_count": 7,
   "id": "3a6d4eea-8df0-4ff3-9d2f-985fa4ef53fa",
   "metadata": {},
   "outputs": [
    {
     "data": {
      "text/html": [
       "<div>\n",
       "<style scoped>\n",
       "    .dataframe tbody tr th:only-of-type {\n",
       "        vertical-align: middle;\n",
       "    }\n",
       "\n",
       "    .dataframe tbody tr th {\n",
       "        vertical-align: top;\n",
       "    }\n",
       "\n",
       "    .dataframe thead th {\n",
       "        text-align: right;\n",
       "    }\n",
       "</style>\n",
       "<table border=\"1\" class=\"dataframe\">\n",
       "  <thead>\n",
       "    <tr style=\"text-align: right;\">\n",
       "      <th></th>\n",
       "      <th>aback</th>\n",
       "      <th>abase</th>\n",
       "      <th>abate</th>\n",
       "      <th>abbey</th>\n",
       "      <th>abbot</th>\n",
       "      <th>abhor</th>\n",
       "      <th>abide</th>\n",
       "      <th>abled</th>\n",
       "      <th>abode</th>\n",
       "      <th>abort</th>\n",
       "      <th>...</th>\n",
       "      <th>wryly</th>\n",
       "      <th>yacht</th>\n",
       "      <th>yearn</th>\n",
       "      <th>yeast</th>\n",
       "      <th>yield</th>\n",
       "      <th>young</th>\n",
       "      <th>youth</th>\n",
       "      <th>zebra</th>\n",
       "      <th>zesty</th>\n",
       "      <th>zonal</th>\n",
       "    </tr>\n",
       "  </thead>\n",
       "  <tbody>\n",
       "    <tr>\n",
       "      <th>0</th>\n",
       "      <td>1</td>\n",
       "      <td>1</td>\n",
       "      <td>1</td>\n",
       "      <td>1</td>\n",
       "      <td>1</td>\n",
       "      <td>1</td>\n",
       "      <td>1</td>\n",
       "      <td>1</td>\n",
       "      <td>1</td>\n",
       "      <td>1</td>\n",
       "      <td>...</td>\n",
       "      <td>1</td>\n",
       "      <td>1</td>\n",
       "      <td>1</td>\n",
       "      <td>1</td>\n",
       "      <td>1</td>\n",
       "      <td>1</td>\n",
       "      <td>1</td>\n",
       "      <td>1</td>\n",
       "      <td>1</td>\n",
       "      <td>1</td>\n",
       "    </tr>\n",
       "  </tbody>\n",
       "</table>\n",
       "<p>1 rows × 2309 columns</p>\n",
       "</div>"
      ],
      "text/plain": [
       "   aback  abase  abate  abbey  abbot  abhor  abide  abled  abode  abort  ...  \\\n",
       "0      1      1      1      1      1      1      1      1      1      1  ...   \n",
       "\n",
       "   wryly  yacht  yearn  yeast  yield  young  youth  zebra  zesty  zonal  \n",
       "0      1      1      1      1      1      1      1      1      1      1  \n",
       "\n",
       "[1 rows x 2309 columns]"
      ]
     },
     "execution_count": 7,
     "metadata": {},
     "output_type": "execute_result"
    }
   ],
   "source": [
    "#Now to make an additional df where they are count vecorized with 1 and 2 bigrams for doing eda on comparing words used!\n",
    "\n",
    "ma = df['ma_words']\n",
    "oa = df['oa_words']\n",
    "cvec1 = CountVectorizer(stop_words=None)\n",
    "cvec1.fit(oa)\n",
    "oa_vectorized = cvec1.transform(oa)\n",
    "oa_vectorized_df =  pd.DataFrame(oa_vectorized.todense(), columns=cvec1.get_feature_names())\n",
    "\n",
    "\n",
    "\n",
    "cvec2 = CountVectorizer(stop_words=None)\n",
    "cvec2.fit(ma)\n",
    "ma_vectorized = cvec2.transform(ma)\n",
    "ma_vectorized_df =  pd.DataFrame(ma_vectorized.todense(), columns=cvec2.get_feature_names())\n",
    "ma_vectorized_df.head(3)"
   ]
  },
  {
   "cell_type": "code",
   "execution_count": 8,
   "id": "a445a579-31b6-4e69-99f2-56acfd83e523",
   "metadata": {},
   "outputs": [
    {
     "data": {
      "image/png": "[encoded data removed]",
      "text/plain": [
       "<Figure size 1152x576 with 1 Axes>"
      ]
     },
     "metadata": {
      "needs_background": "light"
     },
     "output_type": "display_data"
    }
   ],
   "source": [
    "#make comparisoin hbar chart of most common words in both subreddits/ did they have overlap? \n",
    "plt.figure(figsize=(16, 8))\n",
    "oa_vectorized_df.sum().sort_values(ascending = True).tail(15).plot.bar(color = 'pink');\n",
    "plt.xlabel('Count')\n",
    "plt.ylabel('words')\n",
    "plt.xticks(rotation = 45)\n",
    "plt.title('Top 15 Unigrams/Bigrams Occuring in r/AskEngineers')\n",
    "plt.savefig('../visualizations/ae_top15.png', dpi = 300, bbox_inches = 'tight')"
   ]
  },
  {
   "cell_type": "code",
   "execution_count": 102,
   "id": "ebd8728e-4c3a-49b8-91e5-46b60067cfeb",
   "metadata": {},
   "outputs": [
    {
     "data": {
      "image/png": "[encoded data removed]",
      "text/plain": [
       "<Figure size 1152x576 with 1 Axes>"
      ]
     },
     "metadata": {
      "needs_background": "light"
     },
     "output_type": "display_data"
    }
   ],
   "source": [
    "plt.figure(figsize=(16, 8))\n",
    "ml_vectorized_df.sum().sort_values(ascending = True).tail(15).plot.bar(color = 'pink');\n",
    "plt.xlabel('Count')\n",
    "plt.ylabel('Unigrams/Bigrams')\n",
    "plt.xticks(rotation = 45)\n",
    "plt.title('Top 15 Unigrams/Bigrams Occuring in r/MachineLearning')\n",
    "plt.savefig('../visualizations/ml_top15.png', dpi = 300, bbox_inches = 'tight')"
   ]
  },
  {
   "cell_type": "code",
   "execution_count": 33,
   "id": "462a6907-c0c0-4cb7-9def-8734e65f1975",
   "metadata": {},
   "outputs": [
    {
     "data": {
      "text/plain": [
       "['like']"
      ]
     },
     "execution_count": 33,
     "metadata": {},
     "output_type": "execute_result"
    }
   ],
   "source": [
    "#Looking for common words\n",
    "\n",
    "ae = engineers_vectorized_df.sum().sort_values(ascending = True).tail(25).index\n",
    "ml = ml_vectorized_df.sum().sort_values(ascending = True).tail(25).index\n",
    "\n",
    "common = [x for x in ae if x in ml]\n",
    "common"
   ]
  },
  {
   "cell_type": "code",
   "execution_count": null,
   "id": "eb1b5522-636a-4682-8467-52b8eb3bd7c3",
   "metadata": {},
   "outputs": [],
   "source": [
    "common_25 = ['like']\n",
    "common_50 = ['com',\n",
    " 'https',\n",
    " 'use',\n",
    " 'new',\n",
    " 'people',\n",
    " 'think',\n",
    " 'know',\n",
    " 'time',\n",
    " 've',\n",
    " 'just',\n",
    " 'like',\n",
    " 'work']"
   ]
  }
 ],
 "metadata": {
  "kernelspec": {
   "display_name": "Python 3",
   "language": "python",
   "name": "python3"
  },
  "language_info": {
   "codemirror_mode": {
    "name": "ipython",
    "version": 3
   },
   "file_extension": ".py",
   "mimetype": "text/x-python",
   "name": "python",
   "nbconvert_exporter": "python",
   "pygments_lexer": "ipython3",
   "version": "3.8.11"
  }
 },
 "nbformat": 4,
 "nbformat_minor": 5
}
